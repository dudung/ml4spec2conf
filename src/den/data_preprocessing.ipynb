{
 "cells": [
  {
   "cell_type": "markdown",
   "id": "9d8fc1d2",
   "metadata": {},
   "source": [
    "# Data Preprocessing"
   ]
  },
  {
   "cell_type": "code",
   "execution_count": 1,
   "id": "ae174eb9",
   "metadata": {},
   "outputs": [],
   "source": [
    "import pandas as pd\n",
    "import os"
   ]
  },
  {
   "cell_type": "code",
   "execution_count": 4,
   "id": "451951e8",
   "metadata": {},
   "outputs": [],
   "source": [
    "# load data\n",
    "url1 = \"../../data/processed/den/1_sph.xlsx\"\n",
    "url2 = \"../../data/processed/den/2_sph.xlsx\"\n",
    "url3 = \"../../data/processed/den/3_sph.xlsx\"\n",
    "url4 = \"../../data/processed/den/4_sph.xlsx\"\n",
    "url5 = \"../../data/processed/den/5_sph.xlsx\"\n",
    "\n",
    "names = ['lam_max1', 'csc_max1', 'lam_min', 'csc_min','lam_fwhm1','c_mid','lam_max2','csc_max2','lam_fwhm2','fwhm','posisi1','posisi2', 'posisi3','posisi4','posisi5','arah_k','arah_E','sb_putar','sudut1','sudut2','ket'] \n",
    "d1 = pd.read_excel(url1, names=names, header=None)\n",
    "d2 = pd.read_excel(url2, names=names, header=None)\n",
    "d3 = pd.read_excel(url3, names=names, header=None)\n",
    "d4 = pd.read_excel(url4, names=names, header=None)\n",
    "d5 = pd.read_excel(url5, names=names, header=None)"
   ]
  },
  {
   "cell_type": "code",
   "execution_count": 5,
   "id": "68f8457f",
   "metadata": {},
   "outputs": [
    {
     "data": {
      "text/html": [
       "<div>\n",
       "<style scoped>\n",
       "    .dataframe tbody tr th:only-of-type {\n",
       "        vertical-align: middle;\n",
       "    }\n",
       "\n",
       "    .dataframe tbody tr th {\n",
       "        vertical-align: top;\n",
       "    }\n",
       "\n",
       "    .dataframe thead th {\n",
       "        text-align: right;\n",
       "    }\n",
       "</style>\n",
       "<table border=\"1\" class=\"dataframe\">\n",
       "  <thead>\n",
       "    <tr style=\"text-align: right;\">\n",
       "      <th></th>\n",
       "      <th>lam_max1</th>\n",
       "      <th>csc_max1</th>\n",
       "      <th>lam_min</th>\n",
       "      <th>csc_min</th>\n",
       "      <th>lam_fwhm1</th>\n",
       "      <th>c_mid</th>\n",
       "      <th>lam_max2</th>\n",
       "      <th>csc_max2</th>\n",
       "      <th>lam_fwhm2</th>\n",
       "      <th>fwhm</th>\n",
       "      <th>...</th>\n",
       "      <th>posisi2</th>\n",
       "      <th>posisi3</th>\n",
       "      <th>posisi4</th>\n",
       "      <th>posisi5</th>\n",
       "      <th>arah_k</th>\n",
       "      <th>arah_E</th>\n",
       "      <th>sb_putar</th>\n",
       "      <th>sudut1</th>\n",
       "      <th>sudut2</th>\n",
       "      <th>ket</th>\n",
       "    </tr>\n",
       "  </thead>\n",
       "  <tbody>\n",
       "    <tr>\n",
       "      <th>0</th>\n",
       "      <td>408</td>\n",
       "      <td>1.601443e-14</td>\n",
       "      <td>430</td>\n",
       "      <td>1.309453e-14</td>\n",
       "      <td>452.547971</td>\n",
       "      <td>2.136383e-14</td>\n",
       "      <td>462</td>\n",
       "      <td>2.963313e-14</td>\n",
       "      <td>471.424766</td>\n",
       "      <td>18.876794</td>\n",
       "      <td>...</td>\n",
       "      <td>0</td>\n",
       "      <td>0</td>\n",
       "      <td>0</td>\n",
       "      <td>0</td>\n",
       "      <td>3</td>\n",
       "      <td>2</td>\n",
       "      <td>1</td>\n",
       "      <td>0</td>\n",
       "      <td>0</td>\n",
       "      <td>0</td>\n",
       "    </tr>\n",
       "    <tr>\n",
       "      <th>1</th>\n",
       "      <td>408</td>\n",
       "      <td>1.601331e-14</td>\n",
       "      <td>430</td>\n",
       "      <td>1.309381e-14</td>\n",
       "      <td>452.547915</td>\n",
       "      <td>2.136334e-14</td>\n",
       "      <td>462</td>\n",
       "      <td>2.963287e-14</td>\n",
       "      <td>471.424929</td>\n",
       "      <td>18.877014</td>\n",
       "      <td>...</td>\n",
       "      <td>0</td>\n",
       "      <td>0</td>\n",
       "      <td>0</td>\n",
       "      <td>0</td>\n",
       "      <td>3</td>\n",
       "      <td>2</td>\n",
       "      <td>1</td>\n",
       "      <td>1</td>\n",
       "      <td>5</td>\n",
       "      <td>0</td>\n",
       "    </tr>\n",
       "    <tr>\n",
       "      <th>2</th>\n",
       "      <td>408</td>\n",
       "      <td>1.601075e-14</td>\n",
       "      <td>430</td>\n",
       "      <td>1.309218e-14</td>\n",
       "      <td>452.547788</td>\n",
       "      <td>2.136220e-14</td>\n",
       "      <td>462</td>\n",
       "      <td>2.963222e-14</td>\n",
       "      <td>471.425311</td>\n",
       "      <td>18.877523</td>\n",
       "      <td>...</td>\n",
       "      <td>0</td>\n",
       "      <td>0</td>\n",
       "      <td>0</td>\n",
       "      <td>0</td>\n",
       "      <td>3</td>\n",
       "      <td>2</td>\n",
       "      <td>1</td>\n",
       "      <td>3</td>\n",
       "      <td>0</td>\n",
       "      <td>0</td>\n",
       "    </tr>\n",
       "    <tr>\n",
       "      <th>3</th>\n",
       "      <td>408</td>\n",
       "      <td>1.600855e-14</td>\n",
       "      <td>430</td>\n",
       "      <td>1.309076e-14</td>\n",
       "      <td>452.547708</td>\n",
       "      <td>2.136121e-14</td>\n",
       "      <td>462</td>\n",
       "      <td>2.963166e-14</td>\n",
       "      <td>471.425636</td>\n",
       "      <td>18.877928</td>\n",
       "      <td>...</td>\n",
       "      <td>0</td>\n",
       "      <td>0</td>\n",
       "      <td>0</td>\n",
       "      <td>0</td>\n",
       "      <td>3</td>\n",
       "      <td>2</td>\n",
       "      <td>1</td>\n",
       "      <td>4</td>\n",
       "      <td>5</td>\n",
       "      <td>0</td>\n",
       "    </tr>\n",
       "    <tr>\n",
       "      <th>4</th>\n",
       "      <td>408</td>\n",
       "      <td>1.600793e-14</td>\n",
       "      <td>430</td>\n",
       "      <td>1.309029e-14</td>\n",
       "      <td>452.547746</td>\n",
       "      <td>2.136089e-14</td>\n",
       "      <td>462</td>\n",
       "      <td>2.963148e-14</td>\n",
       "      <td>471.425723</td>\n",
       "      <td>18.877976</td>\n",
       "      <td>...</td>\n",
       "      <td>0</td>\n",
       "      <td>0</td>\n",
       "      <td>0</td>\n",
       "      <td>0</td>\n",
       "      <td>3</td>\n",
       "      <td>2</td>\n",
       "      <td>1</td>\n",
       "      <td>6</td>\n",
       "      <td>0</td>\n",
       "      <td>0</td>\n",
       "    </tr>\n",
       "  </tbody>\n",
       "</table>\n",
       "<p>5 rows × 21 columns</p>\n",
       "</div>"
      ],
      "text/plain": [
       "   lam_max1      csc_max1  lam_min       csc_min   lam_fwhm1         c_mid  \\\n",
       "0       408  1.601443e-14      430  1.309453e-14  452.547971  2.136383e-14   \n",
       "1       408  1.601331e-14      430  1.309381e-14  452.547915  2.136334e-14   \n",
       "2       408  1.601075e-14      430  1.309218e-14  452.547788  2.136220e-14   \n",
       "3       408  1.600855e-14      430  1.309076e-14  452.547708  2.136121e-14   \n",
       "4       408  1.600793e-14      430  1.309029e-14  452.547746  2.136089e-14   \n",
       "\n",
       "   lam_max2      csc_max2   lam_fwhm2       fwhm  ...  posisi2  posisi3  \\\n",
       "0       462  2.963313e-14  471.424766  18.876794  ...        0        0   \n",
       "1       462  2.963287e-14  471.424929  18.877014  ...        0        0   \n",
       "2       462  2.963222e-14  471.425311  18.877523  ...        0        0   \n",
       "3       462  2.963166e-14  471.425636  18.877928  ...        0        0   \n",
       "4       462  2.963148e-14  471.425723  18.877976  ...        0        0   \n",
       "\n",
       "   posisi4  posisi5  arah_k  arah_E  sb_putar  sudut1  sudut2  ket  \n",
       "0        0        0       3       2         1       0       0    0  \n",
       "1        0        0       3       2         1       1       5    0  \n",
       "2        0        0       3       2         1       3       0    0  \n",
       "3        0        0       3       2         1       4       5    0  \n",
       "4        0        0       3       2         1       6       0    0  \n",
       "\n",
       "[5 rows x 21 columns]"
      ]
     },
     "execution_count": 5,
     "metadata": {},
     "output_type": "execute_result"
    }
   ],
   "source": [
    "d1.head()"
   ]
  },
  {
   "cell_type": "markdown",
   "id": "eccdc035",
   "metadata": {},
   "source": [
    "Preprocessing data"
   ]
  },
  {
   "cell_type": "code",
   "execution_count": 11,
   "id": "447235b8",
   "metadata": {},
   "outputs": [
    {
     "name": "stderr",
     "output_type": "stream",
     "text": [
      "C:\\Users\\dnrd9\\AppData\\Local\\Temp\\ipykernel_19204\\3535227860.py:3: FutureWarning: Setting an item of incompatible dtype is deprecated and will raise an error in a future version of pandas. Value '400.1518578352181' has dtype incompatible with int64, please explicitly cast to a compatible dtype first.\n",
      "  d2.loc[d2['lam_max1']==d2['lam_max2'], 'lam_max1'] = mean_val\n"
     ]
    }
   ],
   "source": [
    "mean_val = d2.loc[d2['lam_max1']!=d2['lam_max2'], 'lam_max1'].mean()\n",
    "\n",
    "d2.loc[d2['lam_max1']==d2['lam_max2'], 'lam_max1'] = mean_val"
   ]
  },
  {
   "cell_type": "code",
   "execution_count": 13,
   "id": "ee906fd5",
   "metadata": {},
   "outputs": [
    {
     "name": "stderr",
     "output_type": "stream",
     "text": [
      "C:\\Users\\dnrd9\\AppData\\Local\\Temp\\ipykernel_19204\\3886919082.py:3: FutureWarning: Setting an item of incompatible dtype is deprecated and will raise an error in a future version of pandas. Value '395.10217755443887' has dtype incompatible with int64, please explicitly cast to a compatible dtype first.\n",
      "  d3.loc[d3['lam_max1']==d3['lam_max2'], 'lam_max1'] = mean_val\n"
     ]
    }
   ],
   "source": [
    "mean_val = d3.loc[d3['lam_max1']!=d3['lam_max2'], 'lam_max1'].mean()\n",
    "\n",
    "d3.loc[d3['lam_max1']==d3['lam_max2'], 'lam_max1'] = mean_val"
   ]
  },
  {
   "cell_type": "code",
   "execution_count": 14,
   "id": "3149b2d4",
   "metadata": {},
   "outputs": [
    {
     "name": "stderr",
     "output_type": "stream",
     "text": [
      "C:\\Users\\dnrd9\\AppData\\Local\\Temp\\ipykernel_19204\\757535337.py:3: FutureWarning: Setting an item of incompatible dtype is deprecated and will raise an error in a future version of pandas. Value '394.03300330033005' has dtype incompatible with int64, please explicitly cast to a compatible dtype first.\n",
      "  d4.loc[d4['lam_max1'] == d4['lam_max2'], 'lam_max1'] = mean_val\n"
     ]
    }
   ],
   "source": [
    "mean_val = d4.loc[d4['lam_max1'] != d4['lam_max2'], 'lam_max1'].mean()\n",
    "\n",
    "d4.loc[d4['lam_max1'] == d4['lam_max2'], 'lam_max1'] = mean_val"
   ]
  },
  {
   "cell_type": "code",
   "execution_count": 15,
   "id": "897dec65",
   "metadata": {},
   "outputs": [],
   "source": [
    "mean_val = d5.loc[d5['lam_max1'] != d5['lam_max2'], 'lam_max1'].mean()\n",
    "\n",
    "d5.loc[d5['lam_max1'] == d5['lam_max2'], 'lam_max1'] = mean_val"
   ]
  },
  {
   "cell_type": "code",
   "execution_count": 16,
   "id": "d09d8c12",
   "metadata": {},
   "outputs": [],
   "source": [
    "tanpabola3 = pd.concat([d1, d2, d4, d5], ignore_index=True)\n",
    "bola12345 = pd.concat([d1, d2, d3, d4, d5], ignore_index=True)"
   ]
  },
  {
   "cell_type": "markdown",
   "id": "721b87ac",
   "metadata": {},
   "source": [
    "# Export Dataframe into Excel File"
   ]
  },
  {
   "cell_type": "code",
   "execution_count": 18,
   "id": "99782c2b",
   "metadata": {},
   "outputs": [],
   "source": [
    "directory = \"../../data/processed/den\"\n",
    "filename = \"bola12345-1.xlsx\"\n",
    "\n",
    "full_path = os.path.join(directory, filename)\n",
    "\n",
    "bola12345.to_excel(full_path, index=False, header=False)"
   ]
  },
  {
   "cell_type": "code",
   "execution_count": 22,
   "id": "a720d792",
   "metadata": {},
   "outputs": [],
   "source": [
    "directory = \"../../data/processed/den\"\n",
    "filename = \"5_sph.xlsx\"\n",
    "\n",
    "full_path = os.path.join(directory, filename)\n",
    "\n",
    "d5.to_excel(full_path, index=False, header=False)"
   ]
  },
  {
   "cell_type": "code",
   "execution_count": null,
   "id": "dae281db",
   "metadata": {},
   "outputs": [],
   "source": []
  }
 ],
 "metadata": {
  "kernelspec": {
   "display_name": "mlvenv",
   "language": "python",
   "name": "python3"
  },
  "language_info": {
   "codemirror_mode": {
    "name": "ipython",
    "version": 3
   },
   "file_extension": ".py",
   "mimetype": "text/x-python",
   "name": "python",
   "nbconvert_exporter": "python",
   "pygments_lexer": "ipython3",
   "version": "3.12.4"
  }
 },
 "nbformat": 4,
 "nbformat_minor": 5
}
